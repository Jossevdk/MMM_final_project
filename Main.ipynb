{
 "cells": [
  {
   "cell_type": "markdown",
   "metadata": {},
   "source": [
    "Welcome in this notebook. Instruction will be given during the cells the implement the problem correctly."
   ]
  },
  {
   "cell_type": "code",
   "execution_count": 1,
   "metadata": {},
   "outputs": [],
   "source": [
    "import os\n",
    "os.environ[\"OMP_NUM_THREADS\"] = \"20\"\n",
    "os.environ[\"MKL_NUM_THREADS\"] = \"20\"\n",
    "os.environ[\"NUMEXPR_NUM_THREADS\"] = \"20\"\n",
    "from importlib import reload\n",
    "import yee_uchie_QM_pml_class\n",
    "reload(yee_uchie_QM_pml_class)\n",
    "from yee_uchie_QM_pml_class import Source, Recorder, QM_UCHIE_params, Yee_UCHIE\n",
    "import QM_update as QM\n",
    "import numpy as np\n",
    "import scipy.constants as ct\n",
    "import time\n",
    "from scipy.special import hankel2\n",
    "import PyQt5\n",
    "import matplotlib\n",
    "matplotlib.use('Qt5Agg')  # Make sure to set the backend before importing pyplot\n",
    "\n",
    "import matplotlib.pyplot as plt\n",
    "%matplotlib qt\n",
    "\n",
    " # Make sure to set the backend before importing pyplot\n",
    "\n",
    "\n",
    "\n"
   ]
  },
  {
   "cell_type": "code",
   "execution_count": 2,
   "metadata": {},
   "outputs": [],
   "source": [
    "eps0 = ct.epsilon_0\n",
    "mu0 = ct.mu_0\n",
    "hbar = ct.hbar #J⋅s\n",
    "m = ct.electron_mass*0.15\n",
    "q = -ct.elementary_charge\n",
    "c0 = ct.speed_of_light \n",
    "\n",
    "\n",
    "Z0 = np.sqrt(mu0/eps0)\n"
   ]
  },
  {
   "cell_type": "markdown",
   "metadata": {},
   "source": [
    "Set the parameters for the FDTD-UCHIE subgridding scheme coupled with the QM system. The meaning of the paremeters are explained as comments next to it.\n",
    "\n",
    "The subgridding is done by uniformaly fine gridding the coarse where the cells are evenly seperated across the coarse grid. So e.g. if n=5 and N_sub=15, this will take 3 coarse grids and fine grid each of them with 5. So in total 3 coarse grids will be fine gridded giving you a total 5*15=75 cells in the x-direction across 3 coarse grid. So the discretisation step of the fine grid dx_f = dx/(N_sub*n)."
   ]
  },
  {
   "cell_type": "code",
   "execution_count": 3,
   "metadata": {},
   "outputs": [],
   "source": [
    "## Define parameters of the coarse grid/FDTD region ##\n",
    "\n",
    "Nx = 400 # Choose the number of coarse grid in the x-direction of your FDTD region (before subgridding)\n",
    "Ny = 400 # Choose the number of coarse grid in the y-direction of your FDTD region (before subgridding)\n",
    "Nt = 100000 # Choose the number of steps to be performed\n",
    "\n",
    "dx = 0.25e-10 # x-direction's discretisation step of the coarse grid [m]\n",
    "dy = 0.25e-10 # y-direction's discretisation step of the coarse grid [m]\n",
    "courant = 0.9 # Courant number, this number should be chosen smaller than 1\n",
    "dt = courant * 1/(np.sqrt(1/dx**2 + 1/dy**2)*ct.c) # discretisation of the time step [s]\n",
    "\n",
    "## parameters of the finegrid/UCHIE region\n",
    "\n",
    "Ly = 3/5*Ny*dy # Height (y-direction) of your UCHIE region\n",
    "n = 5 # The number of fine gridding in one coarse grid\n",
    "N_sub = 15 # The numbers of coarse grid that you want to fine grid\n",
    "\n",
    "x_sub1 = Nx//3*dx # The location where you want the first subgridding to take place (so left interface of the UCHIE/subgridding region)\n",
    "x_sub2 = 2*Nx//3*dx # The location where you want the second subgridding to take place (so left interface of the UCHIE/subgridding region)\n",
    "\n",
    "\n",
    "\n",
    "## Parameters of the QM wire ##\n",
    "\n",
    "QMxpos1 = n*N_sub//2 # The location of the first QM-wire, now it is set in the middle of the UCHIE scheme\n",
    "QMxpos2 = n*N_sub//2 # The location of the second QM-wire, now it is set in the middle of the UCHIE scheme\n",
    "\n",
    "NyQM = int(2*Ny/5) # Length of the QM wires\n",
    "\n",
    "N = 1e24 # particles/m2 in the QM wire\n",
    "order = 'fourth' # The order of QM scheme, set this to either 'second' or 'fourth'\n",
    "omega = 50e14 # [rad/s]\n",
    "alpha = 0\n",
    "\n",
    "## create the Gaussian magnetic current source (see definition of the gaussian) ##\n",
    "xs = 1/4*Nx*dx # x-location of the magnetic current source\n",
    "ys = 3*Ny/5*dy # y-location of the magnetic current source\n",
    "tc = dt*Nt/30 \n",
    "sigma = tc/6\n",
    "J0 = 1e2/dx/dy\n",
    "source = Source(xs, ys, J0, tc, sigma) # Creating the source as a Class\n",
    "\n",
    "\n",
    "## Parameters for the PML see definition of the PML parameters too ##\n",
    "pml_nl = 20 # Numbers of PML layers\n",
    "pml_m = 4\n",
    "\n"
   ]
  },
  {
   "cell_type": "markdown",
   "metadata": {},
   "source": [
    "Now the important Class objects will be created. Only the objects of the class Recorder can be changed to your choice. The first argument of Recorder takes the x-position of the recorders location and the second argument the y-position."
   ]
  },
  {
   "cell_type": "code",
   "execution_count": null,
   "metadata": {},
   "outputs": [],
   "source": [
    "potential = QM.Potential(m,omega, NyQM, dy) # The Harmonic potential in your QM wire\n",
    "\n",
    "# Create the QM scheme for both QM-wire\n",
    "QMscheme1 = QM.QM(order,NyQM,dy, dt, hbar, m, q, alpha, potential, omega, N)\n",
    "QMscheme2 = QM.QM(order,NyQM,dy, dt, hbar, m, q, alpha, potential, omega, N)\n",
    "\n",
    "#Create the recorders\n",
    "recorder1 = Recorder(0.74*Nx*dx, 0.5*Ny*dy)\n",
    "recorder2 = Recorder(0.40*Nx*dx, 0.5*Ny*dy)\n",
    "recorders = [recorder1, recorder2]\n",
    "\n",
    "params = [QM_UCHIE_params(Ly, n, N_sub, x_sub1, QMxpos1, QMscheme1), QM_UCHIE_params(Ly, n, N_sub, x_sub2, QMxpos2, QMscheme2 )]"
   ]
  },
  {
   "cell_type": "markdown",
   "metadata": {},
   "source": [
    "The coupled problem will start running here, so the Yee-uchie scheme will be used. From here one, the user should just run the cells in order to get the plots of the coupled system."
   ]
  },
  {
   "cell_type": "code",
   "execution_count": 4,
   "metadata": {},
   "outputs": [
    {
     "name": "stderr",
     "output_type": "stream",
     "text": [
      " 87%|████████▋ | 86756/100000 [06:04<00:51, 256.07it/s]"
     ]
    }
   ],
   "source": [
    "start_time = time.time()\n",
    "problem = Yee_UCHIE(Nx, Ny, Nt, dx, dy, dt, [source], pml_nl, pml_m, qm_uchie_params = params, recorders=recorders, coupled = True)\n",
    "problem.calculate_fields()\n",
    "end_time = time.time()\n",
    "print(\"Execution time:\", end_time - start_time, \"seconds\")"
   ]
  },
  {
   "cell_type": "code",
   "execution_count": null,
   "metadata": {},
   "outputs": [],
   "source": [
    "%matplotlib qt\n",
    "fig, ax = plt.subplots()\n",
    "\n",
    "ax.set_xlabel('Time [s]')\n",
    "ax.set_ylabel('$H_{z}$ [A/m]')\n",
    "\n",
    "# Plot the main data\n",
    "ax.plot(recorder1.data_time, np.array(recorder2.data)/mu0, label = 'recorder after 1st subgridding')\n",
    "ax.plot(recorder2.data_time, np.array(recorder1.data)/mu0, label = 'recorder after 2nd subgridding')\n",
    "ax.legend()\n",
    "plt.show()\n"
   ]
  },
  {
   "cell_type": "code",
   "execution_count": null,
   "metadata": {},
   "outputs": [],
   "source": [
    "%matplotlib qt\n",
    "from mpl_toolkits.axes_grid1.inset_locator import inset_axes, mark_inset\n",
    "import matplotlib.ticker as ticker\n",
    "\n",
    "fig, ax = plt.subplots()\n",
    "\n",
    "ax.set_xlabel('Time [s]')\n",
    "ax.set_ylabel('$H_{z}$ [A/m]')\n",
    "\n",
    "# Plot the main data\n",
    "ax.plot(recorder1.data_time, np.array(recorder2.data)/mu0, label = 'recorder after 1st subgridding')\n",
    "ax.plot(recorder2.data_time, np.array(recorder1.data)/mu0, label = 'recorder after 2nd subgridding')\n",
    "ax.legend()\n",
    "\n",
    "# Create an inset axes object with a size of 30% of the parent axes in both dimensions\n",
    "# Adjust the bbox_to_anchor values to position the inset a bit higher than the bottom right corner\n",
    "axins = inset_axes(ax, width=\"69.05%\", height=\"30%\", loc=3, bbox_to_anchor=(0.209, 0.1, 1, 1), bbox_transform=ax.transAxes)\n",
    "\n",
    "# Plot the same data in the inset, but with different x and y limits\n",
    "axins.plot(recorder1.data_time, np.array(recorder2.data)/mu0)\n",
    "axins.plot(recorder2.data_time, np.array(recorder1.data)/mu0)\n",
    "axins.set_xlim([1e-15, 5e-15])  # x limits\n",
    "axins.set_ylim([-100000, 100000])  # y limits\n",
    "\n",
    "axins.xaxis.set_major_locator(ticker.MultipleLocator(base=1e-15))\n",
    "\n",
    "# Create a dashed rectangle around the x and y limits of the inset\n",
    "mark_inset(ax, axins, loc1=2, loc2=1, fc=\"none\", ec=\"0.5\")\n",
    "\n",
    "plt.show()\n"
   ]
  },
  {
   "cell_type": "code",
   "execution_count": null,
   "metadata": {},
   "outputs": [],
   "source": [
    "%matplotlib inline\n",
    "plt.rcParams[\"animation.html\"] = \"jshtml\"\n",
    "plt.rcParams['figure.dpi'] = 75\n",
    "plt.ioff()\n",
    "v = np.max(problem.data_yee)*0.5\n",
    "anim = problem.animate_field(v)\n",
    "from IPython.display import HTML\n",
    "HTML(anim.to_jshtml())\n"
   ]
  },
  {
   "cell_type": "code",
   "execution_count": null,
   "metadata": {},
   "outputs": [],
   "source": [
    "%matplotlib inline\n",
    "\n",
    "plt.rcParams[\"animation.html\"] = \"jshtml\"\n",
    "plt.rcParams['figure.dpi'] = 75\n",
    "plt.ioff()\n",
    "v = np.max(problem.data_yee[200:])*1.2\n",
    "anim = problem.animate_field(v)\n",
    "HTML(anim.to_jshtml())\n"
   ]
  },
  {
   "cell_type": "code",
   "execution_count": null,
   "metadata": {},
   "outputs": [],
   "source": [
    "%matplotlib inline\n",
    "plt.plot(problem.recorders[0].data)\n"
   ]
  },
  {
   "cell_type": "code",
   "execution_count": null,
   "metadata": {},
   "outputs": [],
   "source": [
    "\n"
   ]
  },
  {
   "cell_type": "code",
   "execution_count": null,
   "metadata": {},
   "outputs": [],
   "source": [
    "%matplotlib inline\n",
    "QMscheme1.expvalues('energy')\n",
    "\n"
   ]
  },
  {
   "cell_type": "code",
   "execution_count": null,
   "metadata": {},
   "outputs": [],
   "source": [
    "QMscheme2.expvalues('energy')\n"
   ]
  },
  {
   "cell_type": "code",
   "execution_count": null,
   "metadata": {},
   "outputs": [],
   "source": [
    "QMscheme1.heatmap()\n"
   ]
  },
  {
   "cell_type": "code",
   "execution_count": null,
   "metadata": {},
   "outputs": [],
   "source": []
  }
 ],
 "metadata": {
  "kernelspec": {
   "display_name": "base",
   "language": "python",
   "name": "python3"
  },
  "language_info": {
   "codemirror_mode": {
    "name": "ipython",
    "version": 3
   },
   "file_extension": ".py",
   "mimetype": "text/x-python",
   "name": "python",
   "nbconvert_exporter": "python",
   "pygments_lexer": "ipython3",
   "version": "3.11.5"
  }
 },
 "nbformat": 4,
 "nbformat_minor": 2
}
