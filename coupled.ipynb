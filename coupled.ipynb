{
 "cells": [
  {
   "cell_type": "code",
   "execution_count": 1,
   "metadata": {},
   "outputs": [],
   "source": [
    "import os\n",
    "os.environ[\"OMP_NUM_THREADS\"] = \"20\"\n",
    "os.environ[\"MKL_NUM_THREADS\"] = \"20\"\n",
    "os.environ[\"NUMEXPR_NUM_THREADS\"] = \"20\"\n",
    "from importlib import reload\n",
    "import yee_uchie_QM_pml_class\n",
    "reload(yee_uchie_QM_pml_class)\n",
    "from yee_uchie_QM_pml_class import Source, Recorder, QM_UCHIE_params, Yee_UCHIE\n",
    "import QM_update as QM\n",
    "import numpy as np\n",
    "import scipy.constants as ct\n",
    "import time\n",
    "from scipy.special import hankel2\n",
    "import PyQt5\n",
    "import matplotlib\n",
    "matplotlib.use('Qt5Agg')  # Make sure to set the backend before importing pyplot\n",
    "\n",
    "import matplotlib.pyplot as plt\n",
    "%matplotlib qt\n",
    "\n",
    " # Make sure to set the backend before importing pyplot\n",
    "\n",
    "\n",
    "\n"
   ]
  },
  {
   "cell_type": "code",
   "execution_count": 2,
   "metadata": {},
   "outputs": [],
   "source": [
    "eps0 = ct.epsilon_0\n",
    "mu0 = ct.mu_0\n",
    "hbar = ct.hbar #J⋅s\n",
    "m = ct.electron_mass*0.15\n",
    "q = -ct.elementary_charge\n",
    "c0 = ct.speed_of_light \n",
    "\n",
    "\n",
    "Z0 = np.sqrt(mu0/eps0)\n"
   ]
  },
  {
   "cell_type": "code",
   "execution_count": 3,
   "metadata": {},
   "outputs": [],
   "source": [
    "\n",
    "########## Fill in the parameters here ################\n",
    "Nx = 400\n",
    "Ny = 400\n",
    "Nt = 100000\n",
    "\n",
    "dx = 0.25e-10 # m\n",
    "dy = 0.25e-10 # ms\n",
    "courant = 0.9 # !Courant number, for stability this should be smaller than 1\n",
    "dt = courant * 1/(np.sqrt(1/dx**2 + 1/dy**2)*ct.c)\n",
    "\n",
    "Ly = 3/5*Ny*dy\n",
    "n = 5 #@ numbers of Subgridding in one grid\n",
    "N_sub = 15 #@ How much grid you want to take to subgrid\n",
    "\n",
    "x_sub1 = Nx//3*dx #@ The locationwhere the first subgridding should happen\n",
    "x_sub2 = 2*Nx//3*dx #@ The locationwhere the first subgridding should happen\n",
    "\n",
    "QMxpos1 = n*N_sub//2\n",
    "QMxpos2 = n*N_sub//2\n",
    "\n",
    "\n",
    "NyQM = int(2*Ny/5)\n",
    "\n",
    "#create the source\n",
    "xs = 1/4*Nx*dx\n",
    "ys = 3*Ny/5*dy\n",
    "tc = dt*Nt/30\n",
    "sigma = tc/6\n",
    "J0 = 1e2/dx/dy\n",
    "source = Source(xs, ys, J0, tc, sigma)\n",
    "\n",
    "N = 1e24#particles/m2\n",
    "#NyQM = int(2*Ny/3)\n",
    "order = 'fourth'\n",
    "omega = 50e14 #[rad/s]\n",
    "alpha = 0\n",
    "\n",
    "pml_nl = 20\n",
    "pml_m = 4\n",
    "\n"
   ]
  },
  {
   "cell_type": "code",
   "execution_count": 4,
   "metadata": {},
   "outputs": [
    {
     "name": "stderr",
     "output_type": "stream",
     "text": [
      "  0%|          | 464/100000 [00:01<06:43, 246.94it/s]"
     ]
    }
   ],
   "source": [
    "potential = QM.Potential(m,omega, NyQM, dy)\n",
    "#potential.V()\n",
    "\n",
    "QMscheme1 = QM.QM(order,NyQM,dy, dt, hbar, m, q, alpha, potential, omega, N)\n",
    "QMscheme2 = QM.QM(order,NyQM,dy, dt, hbar, m, q, alpha, potential, omega, N)\n",
    "\n",
    "recorder1 = Recorder(0.74*Nx*dx, 0.5*Ny*dy)\n",
    "recorder2 = Recorder(0.40*Nx*dx, 0.5*Ny*dy)\n",
    "recorders = [recorder1, recorder2]\n",
    "\n",
    "params = [QM_UCHIE_params(Ly, n, N_sub, x_sub1, QMxpos1, QMscheme1), QM_UCHIE_params(Ly, n, N_sub, x_sub2, QMxpos2, QMscheme2 )]\n",
    "#params = [QM_UCHIE_params(Ly, n, N_sub, x_sub1, QMxpos1, QMscheme1)]\n",
    "\n",
    "\n",
    "start_time = time.time()\n",
    "test = Yee_UCHIE(Nx, Ny, Nt, dx, dy, dt, [source], pml_nl, pml_m, qm_uchie_params = params, recorders=recorders, coupled = True)\n",
    "test.calculate_fields()\n",
    "end_time = time.time()\n",
    "print(\"Execution time:\", end_time - start_time, \"seconds\")\n",
    "\n"
   ]
  },
  {
   "cell_type": "code",
   "execution_count": null,
   "metadata": {},
   "outputs": [],
   "source": [
    "%matplotlib qt\n",
    "fig, ax = plt.subplots()\n",
    "\n",
    "ax.set_xlabel('Time [s]')\n",
    "ax.set_ylabel('$H_{z}$ [A/m]')\n",
    "\n",
    "# Plot the main data\n",
    "ax.plot(recorder1.data_time, np.array(recorder2.data)/mu0, label = 'recorder after 1st subgridding')\n",
    "ax.plot(recorder2.data_time, np.array(recorder1.data)/mu0, label = 'recorder after 2nd subgridding')\n",
    "ax.legend()\n",
    "plt.show()\n"
   ]
  },
  {
   "cell_type": "code",
   "execution_count": null,
   "metadata": {},
   "outputs": [],
   "source": [
    "%matplotlib qt\n",
    "from mpl_toolkits.axes_grid1.inset_locator import inset_axes, mark_inset\n",
    "import matplotlib.ticker as ticker\n",
    "\n",
    "fig, ax = plt.subplots()\n",
    "\n",
    "ax.set_xlabel('Time [s]')\n",
    "ax.set_ylabel('$H_{z}$ [A/m]')\n",
    "\n",
    "# Plot the main data\n",
    "ax.plot(recorder1.data_time, np.array(recorder2.data)/mu0, label = 'recorder after 1st subgridding')\n",
    "ax.plot(recorder2.data_time, np.array(recorder1.data)/mu0, label = 'recorder after 2nd subgridding')\n",
    "ax.legend()\n",
    "\n",
    "# Create an inset axes object with a size of 30% of the parent axes in both dimensions\n",
    "# Adjust the bbox_to_anchor values to position the inset a bit higher than the bottom right corner\n",
    "axins = inset_axes(ax, width=\"69.05%\", height=\"30%\", loc=3, bbox_to_anchor=(0.209, 0.1, 1, 1), bbox_transform=ax.transAxes)\n",
    "\n",
    "# Plot the same data in the inset, but with different x and y limits\n",
    "axins.plot(recorder1.data_time, np.array(recorder2.data)/mu0)\n",
    "axins.plot(recorder2.data_time, np.array(recorder1.data)/mu0)\n",
    "axins.set_xlim([1e-15, 5e-15])  # x limits\n",
    "axins.set_ylim([-100000, 100000])  # y limits\n",
    "\n",
    "axins.xaxis.set_major_locator(ticker.MultipleLocator(base=1e-15))\n",
    "\n",
    "# Create a dashed rectangle around the x and y limits of the inset\n",
    "mark_inset(ax, axins, loc1=2, loc2=1, fc=\"none\", ec=\"0.5\")\n",
    "\n",
    "plt.show()\n"
   ]
  },
  {
   "cell_type": "code",
   "execution_count": null,
   "metadata": {},
   "outputs": [],
   "source": [
    "%matplotlib inline\n",
    "plt.rcParams[\"animation.html\"] = \"jshtml\"\n",
    "plt.rcParams['figure.dpi'] = 75\n",
    "plt.ioff()\n",
    "v = np.max(test.data_yee)*0.5\n",
    "anim = test.animate_field(v)\n",
    "from IPython.display import HTML\n",
    "HTML(anim.to_jshtml())\n"
   ]
  },
  {
   "cell_type": "code",
   "execution_count": null,
   "metadata": {},
   "outputs": [],
   "source": [
    "%matplotlib inline\n",
    "\n",
    "plt.rcParams[\"animation.html\"] = \"jshtml\"\n",
    "plt.rcParams['figure.dpi'] = 75\n",
    "plt.ioff()\n",
    "v = np.max(test.data_yee[200:])*1.2\n",
    "anim = test.animate_field(v)\n",
    "HTML(anim.to_jshtml())\n"
   ]
  },
  {
   "cell_type": "code",
   "execution_count": null,
   "metadata": {},
   "outputs": [],
   "source": [
    "%matplotlib inline\n",
    "plt.plot(test.recorders[0].data)\n"
   ]
  },
  {
   "cell_type": "code",
   "execution_count": null,
   "metadata": {},
   "outputs": [],
   "source": [
    "\n"
   ]
  },
  {
   "cell_type": "code",
   "execution_count": null,
   "metadata": {},
   "outputs": [],
   "source": [
    "%matplotlib inline\n",
    "QMscheme1.expvalues('energy')\n",
    "\n"
   ]
  },
  {
   "cell_type": "code",
   "execution_count": null,
   "metadata": {},
   "outputs": [],
   "source": [
    "QMscheme2.expvalues('energy')\n"
   ]
  },
  {
   "cell_type": "code",
   "execution_count": null,
   "metadata": {},
   "outputs": [],
   "source": [
    "QMscheme1.heatmap()\n"
   ]
  },
  {
   "cell_type": "code",
   "execution_count": null,
   "metadata": {},
   "outputs": [],
   "source": []
  }
 ],
 "metadata": {
  "kernelspec": {
   "display_name": "base",
   "language": "python",
   "name": "python3"
  },
  "language_info": {
   "codemirror_mode": {
    "name": "ipython",
    "version": 3
   },
   "file_extension": ".py",
   "mimetype": "text/x-python",
   "name": "python",
   "nbconvert_exporter": "python",
   "pygments_lexer": "ipython3",
   "version": "3.11.5"
  }
 },
 "nbformat": 4,
 "nbformat_minor": 2
}
